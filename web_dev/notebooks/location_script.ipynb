{
 "metadata": {
  "language_info": {
   "codemirror_mode": {
    "name": "ipython",
    "version": 3
   },
   "file_extension": ".py",
   "mimetype": "text/x-python",
   "name": "python",
   "nbconvert_exporter": "python",
   "pygments_lexer": "ipython3",
   "version": "3.7.3-final"
  },
  "orig_nbformat": 2,
  "kernelspec": {
   "name": "python_defaultSpec_1600330269056",
   "display_name": "Python 3.7.3 64-bit ('base': conda)"
  }
 },
 "nbformat": 4,
 "nbformat_minor": 2,
 "cells": [
  {
   "cell_type": "code",
   "execution_count": 1,
   "metadata": {
    "tags": []
   },
   "outputs": [],
   "source": [
    "import pandas as pd"
   ]
  },
  {
   "cell_type": "code",
   "execution_count": 3,
   "metadata": {},
   "outputs": [],
   "source": [
    "book = pd.read_excel('../Coastline Travel - Group Website Data (for Preeti).xlsx', sheet_name='Under $1,000 Double Occ. ')"
   ]
  },
  {
   "cell_type": "code",
   "execution_count": 2,
   "metadata": {},
   "outputs": [
    {
     "output_type": "error",
     "ename": "NameError",
     "evalue": "name 'book' is not defined",
     "traceback": [
      "\u001b[1;31m---------------------------------------------------------------------------\u001b[0m",
      "\u001b[1;31mNameError\u001b[0m                                 Traceback (most recent call last)",
      "\u001b[1;32m<ipython-input-2-90c8214cc32b>\u001b[0m in \u001b[0;36m<module>\u001b[1;34m\u001b[0m\n\u001b[1;32m----> 1\u001b[1;33m \u001b[0murls\u001b[0m \u001b[1;33m=\u001b[0m \u001b[0mlist\u001b[0m\u001b[1;33m(\u001b[0m\u001b[0mbook\u001b[0m\u001b[1;33m[\u001b[0m\u001b[1;34m'Venue Map'\u001b[0m\u001b[1;33m]\u001b[0m\u001b[1;33m.\u001b[0m\u001b[0msqueeze\u001b[0m\u001b[1;33m(\u001b[0m\u001b[1;33m)\u001b[0m\u001b[1;33m)\u001b[0m\u001b[1;33m\u001b[0m\u001b[1;33m\u001b[0m\u001b[0m\n\u001b[0m",
      "\u001b[1;31mNameError\u001b[0m: name 'book' is not defined"
     ]
    }
   ],
   "source": [
    "urls = list(book['Venue Map'].squeeze())"
   ]
  },
  {
   "cell_type": "code",
   "execution_count": 18,
   "metadata": {},
   "outputs": [
    {
     "output_type": "execute_result",
     "data": {
      "text/plain": "  State (Domestic) / Country (International)    City/Island  \\\n0                                 California     Santa Cruz   \n1                                 California  Half Moon Bay   \n2                                 California       Saratoga   \n\n                  Location/Venue  \\\n0  Santa Cruz Beach (or similar)   \n1             Long Branch Farms    \n2               Saratoga Springs   \n\n                                       Venue Website  \\\n0  https://www.google.com/maps?q=santa+cruz+beach...   \n1                   https://www.longbranchfarms.net/   \n2                       http://saratoga-springs.com/   \n\n                             Venue Address  \\\n0       400 Beach St, Santa Cruz, CA 95060   \n1    321 Verde Rd, Half Moon Bay, CA 94019   \n2  22801 Big Basin Way, Saratoga, CA 95070   \n\n                                           Venue Map  \\\n0  https://www.google.com/maps/place/Santa+Cruz+B...   \n1  https://www.google.com/maps?q=long+branch+farm...   \n2  https://www.google.com/maps/place/Saratoga+Spr...   \n\n                                  Package Inclusions  \\\n0  Roundtrip Group Transporation\\nGuided Half-Day...   \n1  Roundtrip Group Transporation\\n4-Hour Venue Re...   \n2  Roundtrip Group Transporation\\nTBD Teambuildin...   \n\n                                Activity Suggestions  \\\n0                                Sandcastle building   \n1        Chili Cook Off or Guacamole Off, Lawn Games   \n2  Team Building Challenges: The \"Ultimate Games\"...   \n\n                                      Cost Estimate   Season  \n0  50 Googlers: $310.00 per person, 100 Googlers:...  Spring  \n1  50 Googlers:  $285.00 per person, 100 Googlers...  Spring  \n2  50 Googlers: $280.00 per person, 100 Googlers:...  Spring  ",
      "text/html": "<div>\n<style scoped>\n    .dataframe tbody tr th:only-of-type {\n        vertical-align: middle;\n    }\n\n    .dataframe tbody tr th {\n        vertical-align: top;\n    }\n\n    .dataframe thead th {\n        text-align: right;\n    }\n</style>\n<table border=\"1\" class=\"dataframe\">\n  <thead>\n    <tr style=\"text-align: right;\">\n      <th></th>\n      <th>State (Domestic) / Country (International)</th>\n      <th>City/Island</th>\n      <th>Location/Venue</th>\n      <th>Venue Website</th>\n      <th>Venue Address</th>\n      <th>Venue Map</th>\n      <th>Package Inclusions</th>\n      <th>Activity Suggestions</th>\n      <th>Cost Estimate</th>\n      <th>Season</th>\n    </tr>\n  </thead>\n  <tbody>\n    <tr>\n      <th>0</th>\n      <td>California</td>\n      <td>Santa Cruz</td>\n      <td>Santa Cruz Beach (or similar)</td>\n      <td>https://www.google.com/maps?q=santa+cruz+beach...</td>\n      <td>400 Beach St, Santa Cruz, CA 95060</td>\n      <td>https://www.google.com/maps/place/Santa+Cruz+B...</td>\n      <td>Roundtrip Group Transporation\\nGuided Half-Day...</td>\n      <td>Sandcastle building</td>\n      <td>50 Googlers: $310.00 per person, 100 Googlers:...</td>\n      <td>Spring</td>\n    </tr>\n    <tr>\n      <th>1</th>\n      <td>California</td>\n      <td>Half Moon Bay</td>\n      <td>Long Branch Farms</td>\n      <td>https://www.longbranchfarms.net/</td>\n      <td>321 Verde Rd, Half Moon Bay, CA 94019</td>\n      <td>https://www.google.com/maps?q=long+branch+farm...</td>\n      <td>Roundtrip Group Transporation\\n4-Hour Venue Re...</td>\n      <td>Chili Cook Off or Guacamole Off, Lawn Games</td>\n      <td>50 Googlers:  $285.00 per person, 100 Googlers...</td>\n      <td>Spring</td>\n    </tr>\n    <tr>\n      <th>2</th>\n      <td>California</td>\n      <td>Saratoga</td>\n      <td>Saratoga Springs</td>\n      <td>http://saratoga-springs.com/</td>\n      <td>22801 Big Basin Way, Saratoga, CA 95070</td>\n      <td>https://www.google.com/maps/place/Saratoga+Spr...</td>\n      <td>Roundtrip Group Transporation\\nTBD Teambuildin...</td>\n      <td>Team Building Challenges: The \"Ultimate Games\"...</td>\n      <td>50 Googlers: $280.00 per person, 100 Googlers:...</td>\n      <td>Spring</td>\n    </tr>\n  </tbody>\n</table>\n</div>"
     },
     "metadata": {},
     "execution_count": 18
    }
   ],
   "source": [
    "df1000 = pd.read_excel('../book2.xlsx', sheet_name='Under $500 Day Trips')\n",
    "df1000.head()"
   ]
  },
  {
   "cell_type": "code",
   "execution_count": 19,
   "metadata": {
    "tags": []
   },
   "outputs": [
    {
     "output_type": "stream",
     "name": "stdout",
     "text": "Location 1 : 20.6800806   -156.4444498\n\n"
    },
    {
     "output_type": "error",
     "ename": "AttributeError",
     "evalue": "'float' object has no attribute 'split'",
     "traceback": [
      "\u001b[1;31m---------------------------------------------------------------------------\u001b[0m",
      "\u001b[1;31mAttributeError\u001b[0m                            Traceback (most recent call last)",
      "\u001b[1;32m<ipython-input-19-2e28fa964b76>\u001b[0m in \u001b[0;36m<module>\u001b[1;34m\u001b[0m\n\u001b[0;32m      1\u001b[0m \u001b[1;32mfor\u001b[0m \u001b[0mindex\u001b[0m\u001b[1;33m,\u001b[0m \u001b[0murl\u001b[0m \u001b[1;32min\u001b[0m \u001b[0menumerate\u001b[0m\u001b[1;33m(\u001b[0m\u001b[0murls\u001b[0m\u001b[1;33m)\u001b[0m\u001b[1;33m:\u001b[0m\u001b[1;33m\u001b[0m\u001b[1;33m\u001b[0m\u001b[0m\n\u001b[1;32m----> 2\u001b[1;33m     \u001b[0murl_list\u001b[0m \u001b[1;33m=\u001b[0m \u001b[0murl\u001b[0m\u001b[1;33m.\u001b[0m\u001b[0msplit\u001b[0m\u001b[1;33m(\u001b[0m\u001b[1;34m'@'\u001b[0m\u001b[1;33m)\u001b[0m\u001b[1;33m\u001b[0m\u001b[1;33m\u001b[0m\u001b[0m\n\u001b[0m\u001b[0;32m      3\u001b[0m     \u001b[1;32mif\u001b[0m \u001b[0mlen\u001b[0m\u001b[1;33m(\u001b[0m\u001b[0murl_list\u001b[0m\u001b[1;33m)\u001b[0m\u001b[1;33m>\u001b[0m\u001b[1;36m1\u001b[0m\u001b[1;33m:\u001b[0m\u001b[1;33m\u001b[0m\u001b[1;33m\u001b[0m\u001b[0m\n\u001b[0;32m      4\u001b[0m \u001b[1;33m\u001b[0m\u001b[0m\n\u001b[0;32m      5\u001b[0m         \u001b[0mprint\u001b[0m\u001b[1;33m(\u001b[0m\u001b[1;34mf'Location {index+1} : {\"   \".join(url_list[1].split(\",\")[:2])}'\u001b[0m\u001b[1;33m)\u001b[0m\u001b[1;33m\u001b[0m\u001b[1;33m\u001b[0m\u001b[0m\n",
      "\u001b[1;31mAttributeError\u001b[0m: 'float' object has no attribute 'split'"
     ]
    }
   ],
   "source": [
    "for index, url in enumerate(urls):\n",
    "    url_list = url.split('@')\n",
    "    if len(url_list)>1:\n",
    "\n",
    "        print(f'Location {index+1} : {\"   \".join(url_list[1].split(\",\")[:2])}')\n",
    "    else:\n",
    "        print(f\"Location {index+1} : Not Found!!\")\n",
    "    print()"
   ]
  },
  {
   "cell_type": "code",
   "execution_count": 20,
   "metadata": {},
   "outputs": [
    {
     "output_type": "error",
     "ename": "KeyError",
     "evalue": "'Double Cost Estimate '",
     "traceback": [
      "\u001b[1;31m---------------------------------------------------------------------------\u001b[0m",
      "\u001b[1;31mKeyError\u001b[0m                                  Traceback (most recent call last)",
      "\u001b[1;32m~\\Anaconda3\\lib\\site-packages\\pandas\\core\\indexes\\base.py\u001b[0m in \u001b[0;36mget_loc\u001b[1;34m(self, key, method, tolerance)\u001b[0m\n\u001b[0;32m   2645\u001b[0m             \u001b[1;32mtry\u001b[0m\u001b[1;33m:\u001b[0m\u001b[1;33m\u001b[0m\u001b[1;33m\u001b[0m\u001b[0m\n\u001b[1;32m-> 2646\u001b[1;33m                 \u001b[1;32mreturn\u001b[0m \u001b[0mself\u001b[0m\u001b[1;33m.\u001b[0m\u001b[0m_engine\u001b[0m\u001b[1;33m.\u001b[0m\u001b[0mget_loc\u001b[0m\u001b[1;33m(\u001b[0m\u001b[0mkey\u001b[0m\u001b[1;33m)\u001b[0m\u001b[1;33m\u001b[0m\u001b[1;33m\u001b[0m\u001b[0m\n\u001b[0m\u001b[0;32m   2647\u001b[0m             \u001b[1;32mexcept\u001b[0m \u001b[0mKeyError\u001b[0m\u001b[1;33m:\u001b[0m\u001b[1;33m\u001b[0m\u001b[1;33m\u001b[0m\u001b[0m\n",
      "\u001b[1;32mpandas\\_libs\\index.pyx\u001b[0m in \u001b[0;36mpandas._libs.index.IndexEngine.get_loc\u001b[1;34m()\u001b[0m\n",
      "\u001b[1;32mpandas\\_libs\\index.pyx\u001b[0m in \u001b[0;36mpandas._libs.index.IndexEngine.get_loc\u001b[1;34m()\u001b[0m\n",
      "\u001b[1;32mpandas\\_libs\\hashtable_class_helper.pxi\u001b[0m in \u001b[0;36mpandas._libs.hashtable.PyObjectHashTable.get_item\u001b[1;34m()\u001b[0m\n",
      "\u001b[1;32mpandas\\_libs\\hashtable_class_helper.pxi\u001b[0m in \u001b[0;36mpandas._libs.hashtable.PyObjectHashTable.get_item\u001b[1;34m()\u001b[0m\n",
      "\u001b[1;31mKeyError\u001b[0m: 'Double Cost Estimate '",
      "\nDuring handling of the above exception, another exception occurred:\n",
      "\u001b[1;31mKeyError\u001b[0m                                  Traceback (most recent call last)",
      "\u001b[1;32m<ipython-input-20-7e8a7fce5584>\u001b[0m in \u001b[0;36m<module>\u001b[1;34m\u001b[0m\n\u001b[0;32m      5\u001b[0m \u001b[0maddress\u001b[0m \u001b[1;33m=\u001b[0m \u001b[0mlist\u001b[0m\u001b[1;33m(\u001b[0m\u001b[0mdf1000\u001b[0m\u001b[1;33m[\u001b[0m\u001b[1;34m'Venue Address'\u001b[0m\u001b[1;33m]\u001b[0m\u001b[1;33m.\u001b[0m\u001b[0msqueeze\u001b[0m\u001b[1;33m(\u001b[0m\u001b[1;33m)\u001b[0m\u001b[1;33m)\u001b[0m\u001b[1;33m\u001b[0m\u001b[1;33m\u001b[0m\u001b[0m\n\u001b[0;32m      6\u001b[0m \u001b[0murls\u001b[0m \u001b[1;33m=\u001b[0m \u001b[0mlist\u001b[0m\u001b[1;33m(\u001b[0m\u001b[0mdf1000\u001b[0m\u001b[1;33m[\u001b[0m\u001b[1;34m'Venue Map'\u001b[0m\u001b[1;33m]\u001b[0m\u001b[1;33m.\u001b[0m\u001b[0msqueeze\u001b[0m\u001b[1;33m(\u001b[0m\u001b[1;33m)\u001b[0m\u001b[1;33m)\u001b[0m\u001b[1;33m\u001b[0m\u001b[1;33m\u001b[0m\u001b[0m\n\u001b[1;32m----> 7\u001b[1;33m \u001b[0mdoubles\u001b[0m \u001b[1;33m=\u001b[0m \u001b[0mlist\u001b[0m\u001b[1;33m(\u001b[0m\u001b[0mdf1000\u001b[0m\u001b[1;33m[\u001b[0m\u001b[1;34m'Double Cost Estimate '\u001b[0m\u001b[1;33m]\u001b[0m\u001b[1;33m.\u001b[0m\u001b[0msqueeze\u001b[0m\u001b[1;33m(\u001b[0m\u001b[1;33m)\u001b[0m\u001b[1;33m)\u001b[0m\u001b[1;33m\u001b[0m\u001b[1;33m\u001b[0m\u001b[0m\n\u001b[0m\u001b[0;32m      8\u001b[0m \u001b[0mseasons\u001b[0m \u001b[1;33m=\u001b[0m \u001b[0mlist\u001b[0m\u001b[1;33m(\u001b[0m\u001b[0mdf1000\u001b[0m\u001b[1;33m[\u001b[0m\u001b[1;34m'Season'\u001b[0m\u001b[1;33m]\u001b[0m\u001b[1;33m.\u001b[0m\u001b[0msqueeze\u001b[0m\u001b[1;33m(\u001b[0m\u001b[1;33m)\u001b[0m\u001b[1;33m)\u001b[0m\u001b[1;33m\u001b[0m\u001b[1;33m\u001b[0m\u001b[0m\n\u001b[0;32m      9\u001b[0m \u001b[0msingles\u001b[0m \u001b[1;33m=\u001b[0m \u001b[0mlist\u001b[0m\u001b[1;33m(\u001b[0m\u001b[0mdf1000\u001b[0m\u001b[1;33m[\u001b[0m\u001b[1;34m'Single Cost Estimate '\u001b[0m\u001b[1;33m]\u001b[0m\u001b[1;33m.\u001b[0m\u001b[0msqueeze\u001b[0m\u001b[1;33m(\u001b[0m\u001b[1;33m)\u001b[0m\u001b[1;33m)\u001b[0m\u001b[1;33m\u001b[0m\u001b[1;33m\u001b[0m\u001b[0m\n",
      "\u001b[1;32m~\\Anaconda3\\lib\\site-packages\\pandas\\core\\frame.py\u001b[0m in \u001b[0;36m__getitem__\u001b[1;34m(self, key)\u001b[0m\n\u001b[0;32m   2798\u001b[0m             \u001b[1;32mif\u001b[0m \u001b[0mself\u001b[0m\u001b[1;33m.\u001b[0m\u001b[0mcolumns\u001b[0m\u001b[1;33m.\u001b[0m\u001b[0mnlevels\u001b[0m \u001b[1;33m>\u001b[0m \u001b[1;36m1\u001b[0m\u001b[1;33m:\u001b[0m\u001b[1;33m\u001b[0m\u001b[1;33m\u001b[0m\u001b[0m\n\u001b[0;32m   2799\u001b[0m                 \u001b[1;32mreturn\u001b[0m \u001b[0mself\u001b[0m\u001b[1;33m.\u001b[0m\u001b[0m_getitem_multilevel\u001b[0m\u001b[1;33m(\u001b[0m\u001b[0mkey\u001b[0m\u001b[1;33m)\u001b[0m\u001b[1;33m\u001b[0m\u001b[1;33m\u001b[0m\u001b[0m\n\u001b[1;32m-> 2800\u001b[1;33m             \u001b[0mindexer\u001b[0m \u001b[1;33m=\u001b[0m \u001b[0mself\u001b[0m\u001b[1;33m.\u001b[0m\u001b[0mcolumns\u001b[0m\u001b[1;33m.\u001b[0m\u001b[0mget_loc\u001b[0m\u001b[1;33m(\u001b[0m\u001b[0mkey\u001b[0m\u001b[1;33m)\u001b[0m\u001b[1;33m\u001b[0m\u001b[1;33m\u001b[0m\u001b[0m\n\u001b[0m\u001b[0;32m   2801\u001b[0m             \u001b[1;32mif\u001b[0m \u001b[0mis_integer\u001b[0m\u001b[1;33m(\u001b[0m\u001b[0mindexer\u001b[0m\u001b[1;33m)\u001b[0m\u001b[1;33m:\u001b[0m\u001b[1;33m\u001b[0m\u001b[1;33m\u001b[0m\u001b[0m\n\u001b[0;32m   2802\u001b[0m                 \u001b[0mindexer\u001b[0m \u001b[1;33m=\u001b[0m \u001b[1;33m[\u001b[0m\u001b[0mindexer\u001b[0m\u001b[1;33m]\u001b[0m\u001b[1;33m\u001b[0m\u001b[1;33m\u001b[0m\u001b[0m\n",
      "\u001b[1;32m~\\Anaconda3\\lib\\site-packages\\pandas\\core\\indexes\\base.py\u001b[0m in \u001b[0;36mget_loc\u001b[1;34m(self, key, method, tolerance)\u001b[0m\n\u001b[0;32m   2646\u001b[0m                 \u001b[1;32mreturn\u001b[0m \u001b[0mself\u001b[0m\u001b[1;33m.\u001b[0m\u001b[0m_engine\u001b[0m\u001b[1;33m.\u001b[0m\u001b[0mget_loc\u001b[0m\u001b[1;33m(\u001b[0m\u001b[0mkey\u001b[0m\u001b[1;33m)\u001b[0m\u001b[1;33m\u001b[0m\u001b[1;33m\u001b[0m\u001b[0m\n\u001b[0;32m   2647\u001b[0m             \u001b[1;32mexcept\u001b[0m \u001b[0mKeyError\u001b[0m\u001b[1;33m:\u001b[0m\u001b[1;33m\u001b[0m\u001b[1;33m\u001b[0m\u001b[0m\n\u001b[1;32m-> 2648\u001b[1;33m                 \u001b[1;32mreturn\u001b[0m \u001b[0mself\u001b[0m\u001b[1;33m.\u001b[0m\u001b[0m_engine\u001b[0m\u001b[1;33m.\u001b[0m\u001b[0mget_loc\u001b[0m\u001b[1;33m(\u001b[0m\u001b[0mself\u001b[0m\u001b[1;33m.\u001b[0m\u001b[0m_maybe_cast_indexer\u001b[0m\u001b[1;33m(\u001b[0m\u001b[0mkey\u001b[0m\u001b[1;33m)\u001b[0m\u001b[1;33m)\u001b[0m\u001b[1;33m\u001b[0m\u001b[1;33m\u001b[0m\u001b[0m\n\u001b[0m\u001b[0;32m   2649\u001b[0m         \u001b[0mindexer\u001b[0m \u001b[1;33m=\u001b[0m \u001b[0mself\u001b[0m\u001b[1;33m.\u001b[0m\u001b[0mget_indexer\u001b[0m\u001b[1;33m(\u001b[0m\u001b[1;33m[\u001b[0m\u001b[0mkey\u001b[0m\u001b[1;33m]\u001b[0m\u001b[1;33m,\u001b[0m \u001b[0mmethod\u001b[0m\u001b[1;33m=\u001b[0m\u001b[0mmethod\u001b[0m\u001b[1;33m,\u001b[0m \u001b[0mtolerance\u001b[0m\u001b[1;33m=\u001b[0m\u001b[0mtolerance\u001b[0m\u001b[1;33m)\u001b[0m\u001b[1;33m\u001b[0m\u001b[1;33m\u001b[0m\u001b[0m\n\u001b[0;32m   2650\u001b[0m         \u001b[1;32mif\u001b[0m \u001b[0mindexer\u001b[0m\u001b[1;33m.\u001b[0m\u001b[0mndim\u001b[0m \u001b[1;33m>\u001b[0m \u001b[1;36m1\u001b[0m \u001b[1;32mor\u001b[0m \u001b[0mindexer\u001b[0m\u001b[1;33m.\u001b[0m\u001b[0msize\u001b[0m \u001b[1;33m>\u001b[0m \u001b[1;36m1\u001b[0m\u001b[1;33m:\u001b[0m\u001b[1;33m\u001b[0m\u001b[1;33m\u001b[0m\u001b[0m\n",
      "\u001b[1;32mpandas\\_libs\\index.pyx\u001b[0m in \u001b[0;36mpandas._libs.index.IndexEngine.get_loc\u001b[1;34m()\u001b[0m\n",
      "\u001b[1;32mpandas\\_libs\\index.pyx\u001b[0m in \u001b[0;36mpandas._libs.index.IndexEngine.get_loc\u001b[1;34m()\u001b[0m\n",
      "\u001b[1;32mpandas\\_libs\\hashtable_class_helper.pxi\u001b[0m in \u001b[0;36mpandas._libs.hashtable.PyObjectHashTable.get_item\u001b[1;34m()\u001b[0m\n",
      "\u001b[1;32mpandas\\_libs\\hashtable_class_helper.pxi\u001b[0m in \u001b[0;36mpandas._libs.hashtable.PyObjectHashTable.get_item\u001b[1;34m()\u001b[0m\n",
      "\u001b[1;31mKeyError\u001b[0m: 'Double Cost Estimate '"
     ]
    }
   ],
   "source": [
    "title = list(df1000['Location/Venue'].squeeze())\n",
    "state = list(df1000['State (Domestic) / Country (International)'].squeeze())\n",
    "city = list(df1000['City/Island'].squeeze())\n",
    "website = list(df1000['Venue Website'].squeeze())\n",
    "address = list(df1000['Venue Address'].squeeze())\n",
    "urls = list(df1000['Venue Map'].squeeze()) \n",
    "doubles = list(df1000['Double Cost Estimate '].squeeze())\n",
    "seasons = list(df1000['Season'].squeeze())\n",
    "singles = list(df1000['Single Cost Estimate '].squeeze())"
   ]
  },
  {
   "cell_type": "code",
   "execution_count": 21,
   "metadata": {
    "tags": []
   },
   "outputs": [
    {
     "output_type": "stream",
     "name": "stdout",
     "text": "title 1 : Santa Cruz Beach (or similar)\nstate 1 : California\ncity 1 : Santa Cruz\nwebsite 1 : https://www.google.com/maps?q=santa+cruz+beach&rlz=1C1GCEA_enUS773US773&um=1&ie=UTF-8&sa=X&ved=2ahUKEwjQrvvJ-O3qAhWzMn0KHWg7AvUQ_AUoAXoECBkQAw\naddress 1 : 400 Beach St, Santa Cruz, CA 95060\nurl 1 : 36.96368   -122.0358712\nDouble Cost 1 : $3,094.00.00\nSeason 1 : Fall\nSingle Cost 1 : 4408.0\n\n\n\ntitle 2 : Long Branch Farms \nstate 2 : California\ncity 2 : Half Moon Bay\nwebsite 2 : https://www.longbranchfarms.net/\naddress 2 : 321 Verde Rd, Half Moon Bay, CA 94019\nhttps://www.google.com/maps?q=long+branch+farms&rlz=1C1GCEA_enUS773US773&um=1&ie=UTF-8&sa=X&ved=2ahUKEwiX2analqXoAhULCTQIHc08CHEQ_AUoAXoECBAQAw\nDouble Cost 2 : nan\nSeason 2 : nan\nSingle Cost 2 : nan\n\n\n\n"
    }
   ],
   "source": [
    "for index, data in enumerate(list(zip(title, state, city, website, address, urls, doubles, seasons, singles))[:]):\n",
    "    num = 1\n",
    "    print(f'title {index+num} : {data[0]}')\n",
    "    print(f'state {index+num} : {data[1]}')\n",
    "    print(f'city {index+num} : {data[2]}')\n",
    "    print(f'website {index+num} : {data[3]}')\n",
    "    print(f'address {index+num} : {data[4]}')\n",
    "\n",
    "    url_list = data[5].split(\"@\")\n",
    "    if len(url_list) >1:\n",
    "        print(f'url {index+num} : {\"   \".join(url_list[1].split(\",\")[:2])}')\n",
    "    else:\n",
    "        print(f'{data[5]}')\n",
    "    print(f'Double Cost {index+num} : {(data[6])}')\n",
    "    print(f'Season {index+num} : {data[7]}')\n",
    "    print(f'Single Cost {index+num} : {(data[8])}', end=\"\\n\\n\\n\\n\")"
   ]
  },
  {
   "cell_type": "code",
   "execution_count": 49,
   "metadata": {},
   "outputs": [
    {
     "output_type": "execute_result",
     "data": {
      "text/plain": "['https://www.google.com/maps/place/JW+Marriott+Phoenix+Desert+Ridge+Resort+%26+Spa/@33.6832866,-111.9685079,17z/data=!3m1!4b1!4m8!3m7!1s0x872b70cba4af71f5:0x69160f5b8297d857!5m2!4m1!1i2!8m2!3d33.6832866!4d-111.9663192',\n 'https://www.google.com/maps/place/Cheyenne+Mountain+Colorado+Springs,+A+Dolce+Resort/@38.7848902,-104.8264455,17z/data=!3m1!4b1!4m8!3m7!1s0x871344a07cdccb35:0x5415580e5b8c7b48!5m2!4m1!1i2!8m2!3d38.7848902!4d-104.8242568',\n 'https://www.google.com/maps?rlz=1C1GCEA_enUS773US773&sxsrf=ALeKk03O0fTL6uMVmppaafgoZpDZbKbF_Q:1584574345000&q=embassy+suites+anaheim+south&uact=5&um=1&ie=UTF-8&sa=X&ved=2ahUKEwjs1r_Gl6XoAhXTOn0KHQEQBwgQ_AUoAXoECA4QAw']"
     },
     "metadata": {},
     "execution_count": 49
    }
   ],
   "source": [
    "urls[:3]"
   ]
  },
  {
   "cell_type": "code",
   "execution_count": 66,
   "metadata": {},
   "outputs": [
    {
     "output_type": "execute_result",
     "data": {
      "text/plain": "[' JW Marriott Phoenix Desert Ridge Resort & Spa',\n 'Cheyenne Mountain Resort',\n 'Embassy Suites Anaheim South                                 ',\n 'Embassy Suites by Hilton Napa Valley',\n 'Fairmont Kea Lani, Maui        ',\n 'Grand Hyatt Kauai Resort & Spa',\n 'Grand Wailea, a Waldorf Astoria Resort ',\n 'Hilton Anaheim ',\n 'Hotel Monteleone New Orleans        ',\n 'Hotel Paradox, Autograph Collection',\n 'Hotel Paradox, Autograph Collection ',\n 'Hotel Solamar',\n 'Hyatt Regency Maui Resort & Spa       ',\n 'Hyatt Regency Monterey Hotel & Spa        ',\n 'Hyatt Regency Monterey Hotel And Spa On Del Monte Golf Course',\n 'Hyatt Regency Monterey Hotel And Spa On Del Monte Golf Course',\n 'Hyatt Regency Resort & Spa at Gainey Ranch        ',\n 'Hyatt Regency Waikiki Beach Resort and Spa  ',\n 'Hyatt Regency Waikiki Beach Resort and Spa  ',\n 'JW Marriott Phoenix Desert Ridge Resort & Spa',\n 'Kimpton Shorebreak Huntington Beach',\n 'Kimpton Shorebreak Huntington Beach',\n 'Lake Tahoe Resort Hotel ',\n 'Lake Tahoe Resort Hotel ',\n 'Manchester Grand Hyatt San Diego  ',\n 'Manchester Grand Hyatt San Diego  ',\n 'Miami Marriott Biscayne Bay',\n 'Monterey Tides',\n 'Napa Valley Marriott Hotel & Spa',\n 'New Orleans Marriott         ',\n 'New York-New York Hotel & Casino',\n 'Resort at Squaw Creek',\n 'Royal Sonesta New Orleans',\n 'Royal Sonesta New Orleans',\n 'Sheraton Kona Resort & Spa at Keauhou Bay',\n 'Sheraton Maui Resort & Spa ',\n 'Sheraton Park Anaheim         ',\n 'Sheraton Princess Kaiulani ',\n 'Sheraton Princess Kaiulani ',\n 'The Golden Nugget Hotel & Casino',\n 'The Ritz-Carlton, Half Moon Bay        ',\n 'The US Grant, A Luxury Collection Hotel',\n 'The US Grant, A Luxury Collection Hotel',\n 'The Westin San Diego Gaslamp Quarter',\n 'The Westin San Diego Gaslamp Quarter',\n 'W Scottsdale         ',\n 'Waikiki Beach Marriott Resort & Spa',\n 'Waikiki Beach Marriott Resort & Spa      ',\n 'Wailea Beach Resort - Marriott, Maui',\n 'Lake Tahoe Resort Hotel ',\n 'Triada Palm Springs – Autograph Collection Hotels ',\n 'Triada Palm Springs – Autograph Collection Hotels ',\n 'Ace Hotel & Swim Club Palm Springs',\n 'Ace Hotel & Swim Club Palm Springs',\n 'Kimpton The Rowan Palm Springs Hotel',\n 'Kimpton The Rowan Palm Springs Hotel',\n 'Hyatt Ziva Los Cabos',\n 'Wynn Las Vegas',\n 'ARIA Resort & Casino',\n 'Edgewood Tahoe Resort',\n 'Hyatt Regency Lake Tahoe Resort, Spa and Casino',\n 'Intercontinental the Clement Monterey',\n 'Napa Valley Marriott Hotel & Spa',\n 'Hyatt Regency Orange County        ',\n 'Embassy Suites By Hilton Anaheim South',\n 'Intercontinental San Juan',\n 'Fairmont El San Juan Hotel']"
     },
     "metadata": {},
     "execution_count": 66
    }
   ],
   "source": [
    "title"
   ]
  },
  {
   "cell_type": "code",
   "execution_count": null,
   "metadata": {},
   "outputs": [],
   "source": []
  }
 ]
}